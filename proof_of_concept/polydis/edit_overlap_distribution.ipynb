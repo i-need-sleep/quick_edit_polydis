{
 "cells": [
  {
   "cell_type": "code",
   "execution_count": 1,
   "metadata": {},
   "outputs": [
    {
     "name": "stderr",
     "output_type": "stream",
     "text": [
      "C:\\Users\\Willi\\anaconda3\\lib\\site-packages\\pandas\\core\\computation\\expressions.py:20: UserWarning: Pandas requires version '2.7.3' or newer of 'numexpr' (version '2.7.2' currently installed).\n",
      "  from pandas.core.computation.check import NUMEXPR_INSTALLED\n"
     ]
    }
   ],
   "source": [
    "import dataset as dtst\n",
    "import torch\n",
    "import os\n",
    "import random\n",
    "import numpy as np\n",
    "import matplotlib.pyplot as plt\n",
    "import seaborn as sns\n",
    "os.environ[\"KMP_DUPLICATE_LIB_OK\"]=\"TRUE\""
   ]
  },
  {
   "cell_type": "code",
   "execution_count": 2,
   "metadata": {},
   "outputs": [],
   "source": [
    "# Load the model\n",
    "from model import DisentangleVAE\n",
    "device = torch.device('cuda' if torch.cuda.is_available() else 'cpu')\n",
    "model = DisentangleVAE.init_model(device)\n",
    "\n",
    "# load model parameters\n",
    "# pytorch uses .pt file to save model parameters.\n",
    "model_path = 'result/models/disvae-nozoth_epoch.pt'  \n",
    "# setting cuda if cuda is available, which will speed up the computation.\n",
    "model.load_model(model_path, map_location=device)"
   ]
  },
  {
   "cell_type": "code",
   "execution_count": 3,
   "metadata": {},
   "outputs": [
    {
     "name": "stdout",
     "output_type": "stream",
     "text": [
      "The folder contains 886 .npz files.\n",
      "Selected 858 files, all are in duple meter.\n"
     ]
    }
   ],
   "source": [
    "# Load the dataset\n",
    "shift_low = -6\n",
    "shift_high = 6\n",
    "num_bar = 2\n",
    "contain_chord = True\n",
    "fns = dtst.collect_data_fns()\n",
    "dataset = dtst.wrap_dataset(fns, np.arange(len(fns)), shift_low, shift_high,\n",
    "                            num_bar=num_bar, contain_chord=contain_chord)\n",
    "loader = torch.utils.data.DataLoader(dataset, batch_size=1, shuffle=True)"
   ]
  },
  {
   "cell_type": "code",
   "execution_count": 4,
   "metadata": {},
   "outputs": [
    {
     "data": {
      "text/plain": [
       "tensor([[0., 0., 0., 0., 0., 0., 1., 0., 0., 0., 0., 0., 0., 1., 0., 0., 0., 0.,\n",
       "         1., 0., 0., 0., 1., 0., 1., 0., 0., 0., 0., 0., 0., 0., 0., 0., 0., 0.],\n",
       "        [0., 0., 0., 0., 0., 1., 0., 0., 0., 0., 0., 0., 1., 0., 0., 0., 0., 1.,\n",
       "         0., 0., 1., 0., 0., 0., 1., 0., 0., 0., 0., 0., 0., 0., 0., 0., 0., 0.],\n",
       "        [0., 0., 0., 0., 1., 0., 0., 0., 0., 0., 0., 0., 0., 0., 0., 0., 1., 0.,\n",
       "         0., 0., 1., 0., 0., 1., 1., 0., 0., 0., 0., 0., 0., 0., 0., 0., 0., 0.],\n",
       "        [0., 0., 0., 0., 0., 0., 0., 0., 0., 0., 1., 0., 0., 1., 0., 0., 0., 1.,\n",
       "         0., 0., 0., 0., 1., 0., 1., 0., 0., 0., 0., 0., 0., 0., 0., 0., 0., 0.],\n",
       "        [0., 0., 0., 0., 0., 0., 0., 0., 0., 1., 0., 0., 1., 0., 0., 0., 1., 0.,\n",
       "         0., 0., 0., 1., 0., 0., 1., 0., 0., 0., 0., 0., 0., 0., 0., 0., 0., 0.],\n",
       "        [0., 0., 0., 0., 0., 0., 0., 0., 1., 0., 0., 0., 0., 0., 0., 1., 0., 0.,\n",
       "         0., 0., 1., 0., 0., 1., 1., 0., 0., 0., 0., 0., 0., 0., 0., 0., 0., 0.],\n",
       "        [0., 0., 0., 0., 0., 0., 0., 0., 0., 0., 1., 0., 0., 1., 0., 0., 0., 1.,\n",
       "         0., 0., 0., 0., 1., 0., 1., 0., 0., 0., 0., 0., 0., 0., 0., 0., 0., 0.],\n",
       "        [0., 1., 0., 0., 0., 0., 0., 0., 0., 0., 0., 0., 0., 1., 0., 0., 1., 0.,\n",
       "         0., 0., 1., 0., 0., 0., 1., 0., 0., 0., 0., 0., 0., 0., 0., 0., 0., 0.]])"
      ]
     },
     "execution_count": 4,
     "metadata": {},
     "output_type": "execute_result"
    }
   ],
   "source": [
    "# Generate a random chord\n",
    "# For now, uniformly sample a triad in root position. At actual training time, consider basing the sample distribution on noised frequencies. \n",
    "def gen_chord():\n",
    "    out = torch.zeros(8, 36)\n",
    "    for i in range(out.shape[0]):\n",
    "        out[i] = gen_chord_step()\n",
    "    return out\n",
    "\n",
    "def gen_chord_step():\n",
    "    root = torch.randint(high=12, size=(1, ))\n",
    "    bass = 0\n",
    "    \n",
    "    out = torch.zeros(1, 36)\n",
    "    out[0, root] = 1\n",
    "    out[0, bass + 24] = 1\n",
    "    \n",
    "    out[0, 12 + root] = 1\n",
    "    out[0, 12 + (root + 7) % 12] = 1\n",
    "\n",
    "    if random.random() < 0.5:\n",
    "        # Minor\n",
    "        out[0, 12 + (root + 4) % 12] = 1\n",
    "    else:\n",
    "        out[0, 12 + (root + 3) % 12] = 1\n",
    "\n",
    "    return out\n",
    "\n",
    "gen_chord()\n"
   ]
  },
  {
   "cell_type": "code",
   "execution_count": 5,
   "metadata": {},
   "outputs": [
    {
     "data": {
      "text/plain": [
       "[Note(start=3.500000, end=4.000000, pitch=71, velocity=100),\n",
       " Note(start=4.000000, end=5.500000, pitch=56, velocity=100),\n",
       " Note(start=4.000000, end=4.500000, pitch=83, velocity=100),\n",
       " Note(start=4.000000, end=5.500000, pitch=56, velocity=100),\n",
       " Note(start=4.000000, end=4.500000, pitch=83, velocity=100),\n",
       " Note(start=4.250000, end=5.500000, pitch=59, velocity=100),\n",
       " Note(start=4.500000, end=5.250000, pitch=63, velocity=100),\n",
       " Note(start=4.500000, end=4.750000, pitch=80, velocity=100),\n",
       " Note(start=4.750000, end=6.000000, pitch=71, velocity=100),\n",
       " Note(start=5.000000, end=5.250000, pitch=76, velocity=100),\n",
       " Note(start=5.000000, end=5.250000, pitch=76, velocity=100),\n",
       " Note(start=5.500000, end=5.750000, pitch=84, velocity=100),\n",
       " Note(start=5.750000, end=6.000000, pitch=88, velocity=100),\n",
       " Note(start=6.000000, end=7.250000, pitch=57, velocity=100),\n",
       " Note(start=6.000000, end=7.250000, pitch=85, velocity=100),\n",
       " Note(start=6.000000, end=7.250000, pitch=57, velocity=100),\n",
       " Note(start=6.000000, end=7.250000, pitch=85, velocity=100),\n",
       " Note(start=6.250000, end=7.250000, pitch=61, velocity=100),\n",
       " Note(start=6.500000, end=7.500000, pitch=69, velocity=100),\n",
       " Note(start=6.750000, end=7.500000, pitch=69, velocity=100),\n",
       " Note(start=7.500000, end=7.750000, pitch=72, velocity=100)]"
      ]
     },
     "execution_count": 5,
     "metadata": {},
     "output_type": "execute_result"
    }
   ],
   "source": [
    "# Nearest neighbours\n",
    "# An naive rule set to apply HST. Consider using a learned one.\n",
    "def hst_nn(notes, chord_mat):\n",
    "    notes_out = []\n",
    "    for i in range(chord_mat.shape[0]):\n",
    "        notes_out += apply_nn_step(notes, chord_mat[i: i+1, :], i)\n",
    "    return notes_out\n",
    "\n",
    "def apply_nn_step(notes, chord, step, quant_size=1):\n",
    "    # Filter out notes starting in the window\n",
    "    filtered_notes = []\n",
    "    for note in notes:\n",
    "        if note.start >= quant_size * step and note.start <= quant_size * (step + 1):\n",
    "            filtered_notes.append(note)\n",
    "    \n",
    "    for note in filtered_notes:\n",
    "        pitch_dist = 999\n",
    "        pit_out = 0\n",
    "        for pit in range(20, 100):\n",
    "            # Is this pitch included in the chroma?\n",
    "            if chord[0, 12 + pit % 12] == 0:\n",
    "                continue\n",
    "            dist = abs(note.pitch - pit)\n",
    "            if dist < pitch_dist:\n",
    "                pitch_dist = dist\n",
    "                pit_out = pit\n",
    "        note.pitch = pit_out\n",
    "    return filtered_notes\n",
    "\n",
    "melody, pr, pr_mat, ptree, chord = dataset[12]\n",
    "_, notes = model.decoder.grid_to_pr_and_notes(ptree.squeeze(0).astype(int))\n",
    "hst_nn(notes, gen_chord())"
   ]
  },
  {
   "cell_type": "code",
   "execution_count": 6,
   "metadata": {},
   "outputs": [
    {
     "name": "stdout",
     "output_type": "stream",
     "text": [
      "0.26004733144915676 0.3800107473653786 0.3079440819821938\n"
     ]
    },
    {
     "data": {
      "image/png": "[encoded data removed]",
      "text/plain": [
       "<Figure size 1152x360 with 3 Axes>"
      ]
     },
     "metadata": {
      "needs_background": "light"
     },
     "output_type": "display_data"
    }
   ],
   "source": [
    "def prec_recall_f1(pred, ref):\n",
    "    hit = 0\n",
    "    n_pred = len(pred)\n",
    "    n_true = len(ref)\n",
    "    for note in pred:\n",
    "        start = note.start\n",
    "        end = note.end\n",
    "        pit = note.pitch\n",
    "        eject_idx = -1\n",
    "        for idx, note_ref in enumerate(ref):\n",
    "            if note_ref.start == start and note_ref.end == end and note_ref.pitch == pit:\n",
    "                hit += 1\n",
    "                eject_idx = idx\n",
    "                break\n",
    "        if eject_idx > -1:\n",
    "            ref.pop(eject_idx)\n",
    "    if n_pred == 0:\n",
    "        prec = 1e-10\n",
    "    else:\n",
    "        prec = hit / n_pred + 1e-10\n",
    "    if n_true == 0 :\n",
    "        recall = 1e-10\n",
    "    else:\n",
    "        recall = hit / n_true + 1e-10\n",
    "    f1 = 2 / (1 / prec + 1 / recall)\n",
    "    return prec, recall, f1\n",
    "\n",
    "def run_trial():\n",
    "    n_trial = 2000\n",
    "    precs = []\n",
    "    recalls = []\n",
    "    f1s = []\n",
    "\n",
    "    iter = 0\n",
    "    while True:\n",
    "        for batch in loader:\n",
    "            iter += 1\n",
    "            if iter > n_trial:\n",
    "                break\n",
    "\n",
    "            melody, pr, pr_mat, ptree, _ = batch\n",
    "            pr_mat = pr_mat[0]\n",
    "            chord = gen_chord()\n",
    "            chord_ = chord.unsqueeze(0)\n",
    "            _, notes = model.decoder.grid_to_pr_and_notes(ptree[0].squeeze(0).numpy().astype(int))\n",
    "\n",
    "            polydis_out = model.swap(pr_mat.float(), pr_mat.float(), chord_.float(), chord_.float(), fix_rhy=True, fix_chd=False)\n",
    "            _, notes_polydis = model.decoder.grid_to_pr_and_notes(polydis_out.squeeze(0).astype(int))\n",
    "            notes_rule = hst_nn(notes, chord)\n",
    "            \n",
    "            prec, recall, f1 = prec_recall_f1(notes_rule, notes_polydis)\n",
    "            precs.append(prec)\n",
    "            recalls.append(recall)\n",
    "            f1s.append(f1)\n",
    "        \n",
    "        if iter > n_trial:\n",
    "            break\n",
    "    precs = np.array(precs)\n",
    "    recalls = np.array(recalls)\n",
    "    f1s = np.array(f1s)\n",
    "    return precs, recalls, f1s\n",
    "\n",
    "prec, recall, f1 = run_trial()\n",
    "print(np.mean(prec), np.mean(recall), np.mean(f1))\n",
    "out = {\n",
    "    'prec': prec,\n",
    "    'recall': recall,\n",
    "    'f1': f1\n",
    "}\n",
    "torch.save(out, 'prec_recall_f1.hi')\n",
    "\n",
    "data = torch.load('./prec_recall_f1.hi')\n",
    "\n",
    "fig, axes = plt.subplots(1, 3, sharex=True, figsize=(16,5))\n",
    "\n",
    "fig.suptitle('2k trials, polydis vs. nearest neighbour, Maj/min triads, phrase-level metrics')\n",
    "for idx, metric in enumerate(['prec', 'recall', 'f1']):\n",
    "    sns.histplot(data[metric], ax=axes[idx])\n",
    "    axes[idx].set_title(metric)"
   ]
  },
  {
   "cell_type": "code",
   "execution_count": 8,
   "metadata": {},
   "outputs": [
    {
     "name": "stdout",
     "output_type": "stream",
     "text": [
      "0.5059385823975892 0.7425046903184767 0.600243437345202\n"
     ]
    },
    {
     "data": {
      "image/png": "[encoded data removed]",
      "text/plain": [
       "<Figure size 1152x360 with 3 Axes>"
      ]
     },
     "metadata": {
      "needs_background": "light"
     },
     "output_type": "display_data"
    }
   ],
   "source": [
    "# Easy mode: only match timings\n",
    "def prec_recall_f1_easy(pred, ref):\n",
    "    hit = 0\n",
    "    n_pred = len(pred)\n",
    "    n_true = len(ref)\n",
    "    for note in pred:\n",
    "        start = note.start\n",
    "        end = note.end\n",
    "        pit = note.pitch\n",
    "        eject_id = -1\n",
    "        for idx, note_ref in enumerate(ref):\n",
    "            if note_ref.start == start and note_ref.end == end:\n",
    "                hit += 1\n",
    "                eject_id = idx\n",
    "                break\n",
    "        if eject_id > -1:\n",
    "            ref.pop(eject_id)\n",
    "    if n_pred == 0:\n",
    "        prec = 1e-10\n",
    "    else:\n",
    "        prec = hit / n_pred + 1e-10\n",
    "    if n_true == 0 :\n",
    "        recall = 1e-10\n",
    "    else:\n",
    "        recall = hit / n_true + 1e-10\n",
    "    f1 = 2 / (1 / prec + 1 / recall)\n",
    "    return prec, recall, f1\n",
    "\n",
    "def run_trial():\n",
    "    n_trial = 2000\n",
    "    precs = []\n",
    "    recalls = []\n",
    "    f1s = []\n",
    "\n",
    "    iter = 0\n",
    "    while True:\n",
    "        for batch in loader:\n",
    "            iter += 1\n",
    "            if iter > n_trial:\n",
    "                break\n",
    "\n",
    "            melody, pr, pr_mat, ptree, _ = batch\n",
    "            pr_mat = pr_mat[0]\n",
    "            chord = gen_chord()\n",
    "            chord_ = chord.unsqueeze(0)\n",
    "            _, notes = model.decoder.grid_to_pr_and_notes(ptree[0].squeeze(0).numpy().astype(int))\n",
    "\n",
    "            polydis_out = model.swap(pr_mat.float(), pr_mat.float(), chord_.float(), chord_.float(), fix_rhy=True, fix_chd=False)\n",
    "            _, notes_polydis = model.decoder.grid_to_pr_and_notes(polydis_out.squeeze(0).astype(int))\n",
    "            notes_rule = hst_nn(notes, chord)\n",
    "            \n",
    "            prec, recall, f1 = prec_recall_f1_easy(notes_rule, notes_polydis)\n",
    "            precs.append(prec)\n",
    "            recalls.append(recall)\n",
    "            f1s.append(f1)\n",
    "        \n",
    "        if iter > n_trial:\n",
    "            break\n",
    "    precs = np.array(precs)\n",
    "    recalls = np.array(recalls)\n",
    "    f1s = np.array(f1s)\n",
    "    return precs, recalls, f1s\n",
    "\n",
    "prec, recall, f1 = run_trial()\n",
    "print(np.mean(prec), np.mean(recall), np.mean(f1))\n",
    "out = {\n",
    "    'prec': prec,\n",
    "    'recall': recall,\n",
    "    'f1': f1\n",
    "}\n",
    "torch.save(out, 'prec_recall_f1_easy.hi')\n",
    "data = torch.load('./prec_recall_f1_easy.hi')\n",
    "\n",
    "fig, axes = plt.subplots(1, 3, sharex=True, figsize=(16,5))\n",
    "\n",
    "fig.suptitle('2k trials, polydis vs. nearest neighbour, Maj/min triads, phrase-level metrics, ignoring pitch difference')\n",
    "for idx, metric in enumerate(['prec', 'recall', 'f1']):\n",
    "    sns.histplot(data[metric], ax=axes[idx])\n",
    "    axes[idx].set_title(metric)"
   ]
  },
  {
   "cell_type": "code",
   "execution_count": null,
   "metadata": {},
   "outputs": [],
   "source": []
  }
 ],
 "metadata": {
  "kernelspec": {
   "display_name": "Python 3",
   "language": "python",
   "name": "python3"
  },
  "language_info": {
   "codemirror_mode": {
    "name": "ipython",
    "version": 3
   },
   "file_extension": ".py",
   "mimetype": "text/x-python",
   "name": "python",
   "nbconvert_exporter": "python",
   "pygments_lexer": "ipython3",
   "version": "3.8.8"
  },
  "vscode": {
   "interpreter": {
    "hash": "b5efcd3efc71ef29576cdfc4a5c5091a22a4d39f277c681ebc64abd29d3aec9c"
   }
  }
 },
 "nbformat": 4,
 "nbformat_minor": 2
}
