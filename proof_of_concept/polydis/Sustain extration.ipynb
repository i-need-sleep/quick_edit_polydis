{
 "cells": [
  {
   "cell_type": "code",
   "execution_count": 46,
   "id": "sweet-factor",
   "metadata": {},
   "outputs": [],
   "source": [
    "import pretty_midi\n",
    "import numpy as np"
   ]
  },
  {
   "cell_type": "code",
   "execution_count": 51,
   "id": "minimal-worst",
   "metadata": {},
   "outputs": [],
   "source": [
    "INPUT_PATH = \"./sample_sustain/858_sustain.mid\"\n",
    "OUTPUT_PATH = \"./sample_sustain/858_sustain\""
   ]
  },
  {
   "cell_type": "code",
   "execution_count": 52,
   "id": "willing-cooler",
   "metadata": {},
   "outputs": [
    {
     "name": "stdout",
     "output_type": "stream",
     "text": [
      "[ControlChange(number=64, value=0, time=0.000000), ControlChange(number=64, value=127, time=0.085417), ControlChange(number=64, value=0, time=1.948958), ControlChange(number=64, value=127, time=2.059375), ControlChange(number=64, value=0, time=3.991667), ControlChange(number=64, value=127, time=4.100000), ControlChange(number=64, value=0, time=5.012500), ControlChange(number=64, value=127, time=5.109375), ControlChange(number=64, value=0, time=5.992708), ControlChange(number=64, value=127, time=6.105208), ControlChange(number=64, value=0, time=6.980208), ControlChange(number=64, value=127, time=7.080208)]\n"
     ]
    }
   ],
   "source": [
    "song = pretty_midi.PrettyMIDI(INPUT_PATH)\n",
    "instrument = song.instruments[0]\n",
    "pedal = instrument.control_changes\n",
    "print(pedal)"
   ]
  },
  {
   "cell_type": "code",
   "execution_count": 53,
   "id": "material-registration",
   "metadata": {},
   "outputs": [
    {
     "name": "stdout",
     "output_type": "stream",
     "text": [
      "[[0.17083333333333334, 3.8979166666666667], [4.11875, 7.983333333333333], [8.2, 10.025], [10.21875, 11.985416666666666], [12.210416666666667, 13.960416666666667], [14.160416666666666, 16]]\n"
     ]
    }
   ],
   "source": [
    "out = []\n",
    "for change in pedal:\n",
    "    if change.value > 0:\n",
    "        out.append([change.time * 2])\n",
    "    elif len(out) > 0:\n",
    "        out[-1].append(change.time * 2)\n",
    "if len(out[-1]) == 1:\n",
    "    out[-1].append(16)\n",
    "np.save(OUTPUT_PATH, out)\n",
    "print(out)"
   ]
  },
  {
   "cell_type": "code",
   "execution_count": 54,
   "id": "departmental-brain",
   "metadata": {},
   "outputs": [
    {
     "name": "stdout",
     "output_type": "stream",
     "text": [
      "[[ 0.17083333  3.89791667]\n",
      " [ 4.11875     7.98333333]\n",
      " [ 8.2        10.025     ]\n",
      " [10.21875    11.98541667]\n",
      " [12.21041667 13.96041667]\n",
      " [14.16041667 16.        ]]\n"
     ]
    }
   ],
   "source": [
    "out = np.load(OUTPUT_PATH+\".npy\")\n",
    "print(out)"
   ]
  },
  {
   "cell_type": "code",
   "execution_count": null,
   "id": "constant-general",
   "metadata": {},
   "outputs": [],
   "source": []
  },
  {
   "cell_type": "code",
   "execution_count": null,
   "id": "established-sapphire",
   "metadata": {},
   "outputs": [],
   "source": []
  }
 ],
 "metadata": {
  "kernelspec": {
   "display_name": "Python 3",
   "language": "python",
   "name": "python3"
  },
  "language_info": {
   "codemirror_mode": {
    "name": "ipython",
    "version": 3
   },
   "file_extension": ".py",
   "mimetype": "text/x-python",
   "name": "python",
   "nbconvert_exporter": "python",
   "pygments_lexer": "ipython3",
   "version": "3.8.8"
  }
 },
 "nbformat": 4,
 "nbformat_minor": 5
}
