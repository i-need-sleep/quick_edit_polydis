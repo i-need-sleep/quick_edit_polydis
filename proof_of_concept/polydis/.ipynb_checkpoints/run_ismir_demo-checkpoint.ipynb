{
 "cells": [
  {
   "cell_type": "code",
   "execution_count": 1,
   "metadata": {
    "pycharm": {
     "is_executing": false
    }
   },
   "outputs": [],
   "source": [
    "import warnings\n",
    "warnings.simplefilter('ignore', UserWarning)\n",
    "from model import DisentangleVAE\n",
    "from dataset_loaders import MusicDataLoaders, TrainingVAE\n",
    "from dataset import SEED\n",
    "import torch\n",
    "import amc_dl.demo_maker as demo_maker\n",
    "from collect_song import SongDatasets\n",
    "import os\n",
    "import mir_eval\n",
    "import numpy as np"
   ]
  },
  {
   "cell_type": "markdown",
   "metadata": {},
   "source": [
    "# Load Model and Dataset"
   ]
  },
  {
   "cell_type": "code",
   "execution_count": 2,
   "metadata": {},
   "outputs": [
    {
     "name": "stdout",
     "output_type": "stream",
     "text": [
      "The folder contains 886 .npz files.\n",
      "Selected 858 files, all are in duple meter.\n",
      "705216 7513\n"
     ]
    }
   ],
   "source": [
    "demo_seed = 1234\n",
    "torch.manual_seed(demo_seed)\n",
    "model_path = 'result/models/disvae-nozoth_epoch.pt'\n",
    "device = torch.device('cuda' if torch.cuda.is_available() else 'cpu')\n",
    "model = DisentangleVAE.init_model(device)\n",
    "model.load_model(model_path, map_location=device)\n",
    "bpm = 80\n",
    "batch_size = 16\n",
    "data_loaders = \\\n",
    "    MusicDataLoaders.get_loaders(SEED, bs_train=batch_size, bs_val=batch_size,\n",
    "                                 portion=8, shift_low=-6, shift_high=5,\n",
    "                                 num_bar=2,\n",
    "                                 contain_chord=True, random_train=True,\n",
    "                                 random_val=True)\n",
    "song_datasets = SongDatasets(data_loaders.train_loader.dataset,\n",
    "                             data_loaders.val_loader.dataset)"
   ]
  },
  {
   "cell_type": "code",
   "execution_count": 3,
   "metadata": {},
   "outputs": [],
   "source": [
    "def outs_to_demo(out, bpm=80):\n",
    "    _, notes = model.decoder.grid_to_pr_and_notes(out, bpm=bpm)\n",
    "    return notes"
   ]
  },
  {
   "cell_type": "markdown",
   "metadata": {},
   "source": [
    "# Listen to Ground Truth"
   ]
  },
  {
   "cell_type": "code",
   "execution_count": 16,
   "metadata": {},
   "outputs": [],
   "source": [
    "def get_val_ground_truth(folder):\n",
    "    outs = []\n",
    "    msgs = []\n",
    "    for song_id in range(len(song_datasets.song_dataset_v.song_ind)):\n",
    "        msg = song_datasets.get_msg(1, song_id, None, 0)\n",
    "        batch = song_datasets.get_song_batch(1, song_id, None, 0)\n",
    "        x, _, _, _ = data_loaders.batch_to_inputs(batch)\n",
    "        out = model.gt_sample(x)\n",
    "        outs.append(out)\n",
    "        msgs.append(msg)\n",
    "    track_notes = demo_maker.demo_format_convert(outs, outs_to_demo, bpm)\n",
    "    fn = os.path.join(folder, 'gt_val_samples.mid')\n",
    "    track_names = msgs\n",
    "    demo_maker.write_demo(fn, track_notes, track_names, bpm, shift_beat=8)\n",
    "    print('gt done')"
   ]
  },
  {
   "cell_type": "code",
   "execution_count": 19,
   "metadata": {},
   "outputs": [],
   "source": [
    "def get_train_ground_truth(folder):\n",
    "    outs = []\n",
    "    msgs = []\n",
    "    num_sample = 20\n",
    "    count = 0\n",
    "    for song_id in range(len(song_datasets.song_dataset_t.song_ind)):\n",
    "        msg = song_datasets.get_msg(0, song_id, None, 0)\n",
    "        batch = song_datasets.get_song_batch(0, song_id, None, 0)\n",
    "        x, _, _, _ = data_loaders.batch_to_inputs(batch)\n",
    "        out = model.gt_sample(x)\n",
    "        outs.append(out)\n",
    "        msgs.append(msg)\n",
    "        if song_id % num_sample == num_sample - 1 or \\\n",
    "            song_id == len(song_datasets.song_dataset_t.song_ind) - 1:\n",
    "            track_notes = demo_maker.demo_format_convert(outs, outs_to_demo, bpm)\n",
    "            fn = os.path.join(folder, 'gt_train_samples_part_%d.mid' % count)\n",
    "            track_names = msgs\n",
    "            demo_maker.write_demo(fn, track_notes, track_names, bpm, shift_beat=8)\n",
    "            count += 1\n",
    "            outs = []\n",
    "            msgs = []\n",
    "    print('gt done')"
   ]
  },
  {
   "cell_type": "code",
   "execution_count": 4,
   "metadata": {},
   "outputs": [],
   "source": [
    "demo_path = 'ismir_demo_0509'\n",
    "if not os.path.exists(demo_path):\n",
    "    os.mkdir(demo_path)\n",
    "gt_long_path = os.path.join(demo_path, 'gt_long')\n",
    "if not os.path.exists(gt_long_path):\n",
    "    os.mkdir(gt_long_path)"
   ]
  },
  {
   "cell_type": "code",
   "execution_count": 18,
   "metadata": {},
   "outputs": [
    {
     "name": "stdout",
     "output_type": "stream",
     "text": [
      "gt done\n"
     ]
    }
   ],
   "source": [
    "get_val_ground_truth(gt_long_path)"
   ]
  },
  {
   "cell_type": "code",
   "execution_count": 20,
   "metadata": {},
   "outputs": [
    {
     "name": "stdout",
     "output_type": "stream",
     "text": [
      "gt done\n"
     ]
    }
   ],
   "source": [
    "get_train_ground_truth(gt_long_path)"
   ]
  },
  {
   "cell_type": "markdown",
   "metadata": {},
   "source": [
    "# The Long Swap Experiment"
   ]
  },
  {
   "cell_type": "code",
   "execution_count": 5,
   "metadata": {},
   "outputs": [],
   "source": [
    "def swap_song(dataset_id1, song_id1, length1, shift1, \n",
    "              dataset_id2, song_id2, length2, shift2,\n",
    "              folder=None):\n",
    "    length1 = song_datasets.valid_length(dataset_id1, song_id1, length1)\n",
    "    length2 = song_datasets.valid_length(dataset_id2, song_id2, length2)\n",
    "    info = '-'.join([song_datasets.get_msg(dataset_id1, song_id1, length1, shift1), \n",
    "                     song_datasets.get_msg(dataset_id2, song_id2, length2, shift2)])\n",
    "    length = min(length1, length2)\n",
    "    print(length)\n",
    "    batch1 = song_datasets.get_song_batch(dataset_id1, song_id1, length, shift1)\n",
    "    batch2 = song_datasets.get_song_batch(dataset_id2, song_id2, length, shift2)\n",
    "    x1, c1, pr_mat1, dt_x1 = data_loaders.batch_to_inputs(batch1)\n",
    "    x2, c2, pr_mat2, dt_x2 = data_loaders.batch_to_inputs(batch2)\n",
    "    print(x1.size(), c1.size(), pr_mat1.size())\n",
    "    print(x2.size(), c2.size(), pr_mat2.size())\n",
    "    out11 = model.gt_sample(x1)\n",
    "    out12 = model.swap(pr_mat1, pr_mat2, c1, c2,\n",
    "                       fix_rhy=True, fix_chd=False)\n",
    "    out21 = model.swap(pr_mat1, pr_mat2, c1, c2,\n",
    "                       fix_rhy=False, fix_chd=True)\n",
    "    out22 = model.gt_sample(x2)\n",
    "    oo = [out11, out22, out12, out21]\n",
    "    demo_folder = os.path.join(folder, info)\n",
    "    if not os.path.exists(demo_folder):\n",
    "        os.mkdir(demo_folder)\n",
    "    track_notes = demo_maker.demo_format_convert(oo, outs_to_demo, bpm)\n",
    "    fn = os.path.join(folder, 'swap-' + info + '.mid')\n",
    "    track_names = ['a', 'b', 'swap_chord', 'swap_rhy']\n",
    "    demo_maker.write_demo(fn, track_notes, track_names, bpm, shift_beat=8)\n",
    "    fn = os.path.join(demo_folder, 'all.mid')\n",
    "    track_names = ['a', 'b', 'swap_chord', 'swap_rhy']\n",
    "    demo_maker.write_demo(fn, track_notes, track_names, bpm, shift_beat=8)\n",
    "    for name, track in zip(track_names, oo):\n",
    "        track_notes = demo_maker.demo_format_convert([track], outs_to_demo, bpm)\n",
    "        fn = os.path.join(demo_folder, name + '.mid')\n",
    "        track_names = ['sample']\n",
    "        demo_maker.write_demo(fn, track_notes, track_names, bpm, shift_beat=8)\n",
    "    \n",
    "    print('swap done')"
   ]
  },
  {
   "cell_type": "code",
   "execution_count": 6,
   "metadata": {},
   "outputs": [],
   "source": [
    "def print_chord(dataset_id, song_id, length, shift):\n",
    "    length = song_datasets.valid_length(dataset_id, song_id, length)\n",
    "    info = song_datasets.get_msg(dataset_id, song_id, length, shift)\n",
    "    batch = song_datasets.get_song_batch(dataset_id, song_id, length, shift)\n",
    "    x, c, pr_mat, dt_x = data_loaders.batch_to_inputs(batch)\n",
    "    print('chord info of %s' % info)\n",
    "    for i, chord in enumerate(c):\n",
    "        print('===== segment %d =====' % i)\n",
    "        for cc in chord:\n",
    "            root = cc[0: 12].argmax()\n",
    "            chroma = cc[12: 24]\n",
    "            bass = cc[24:].argmax()\n",
    "            print(root.item(), bass.item())\n",
    "            print(' ', chroma.numpy())  "
   ]
  },
  {
   "cell_type": "code",
   "execution_count": 7,
   "metadata": {},
   "outputs": [],
   "source": [
    "demo_path = 'ismir_demo_0509'\n",
    "if not os.path.exists(demo_path):\n",
    "    os.mkdir(demo_path)\n",
    "swap_long_path = os.path.join(demo_path, 'swap_long')\n",
    "if not os.path.exists(swap_long_path):\n",
    "    os.mkdir(swap_long_path)"
   ]
  },
  {
   "cell_type": "code",
   "execution_count": 11,
   "metadata": {},
   "outputs": [
    {
     "name": "stdout",
     "output_type": "stream",
     "text": [
      "16\n",
      "torch.Size([8, 32, 16, 6]) torch.Size([8, 8, 36]) torch.Size([8, 32, 128])\n",
      "torch.Size([8, 32, 16, 6]) torch.Size([8, 8, 36]) torch.Size([8, 32, 128])\n",
      "swap done\n"
     ]
    }
   ],
   "source": [
    "song1 = [1, 84, 16, 0]\n",
    "song2 = [1, 122, 16, 6]\n",
    "song3 = [1, 3, 16, 0]\n",
    "song4 = [1, 21, 47, 0]\n",
    "song5 = [1, 122, 16, 0]\n",
    "song6 = [1, 31, 16, 17]  # rigid acc. Mel.\n",
    "song6 = [1, 31, 16, 18]  # rigid acc. Mel.\n",
    "song7 = [1, 26, 16, 18]  # bomqia\n",
    "song8 = [1, 80, 16, 2]  # transpose\n",
    "song9 = [1, 111, 16, 7]  # C major\n",
    "song10 = [1, 84, 16, 8]\n",
    "song11 = [1, 63, 16, 35]  # minge\n",
    "\n",
    "song12 = [1, 3, 25, 1]\n",
    "song13 = [1, 63, 16, 36]\n",
    "swap_song(*song8, *song10, swap_long_path)"
   ]
  },
  {
   "cell_type": "code",
   "execution_count": 35,
   "metadata": {
    "scrolled": false
   },
   "outputs": [
    {
     "name": "stdout",
     "output_type": "stream",
     "text": [
      "chord info of 1_3_16_0\n",
      "===== segment 0 =====\n",
      "9 0\n",
      "  [0. 1. 0. 0. 1. 0. 0. 0. 0. 1. 0. 0.]\n",
      "9 0\n",
      "  [0. 1. 0. 0. 1. 0. 0. 0. 0. 1. 0. 0.]\n",
      "11 0\n",
      "  [0. 0. 0. 1. 0. 0. 1. 0. 0. 0. 0. 1.]\n",
      "11 0\n",
      "  [0. 0. 0. 1. 0. 0. 1. 0. 0. 0. 0. 1.]\n",
      "8 0\n",
      "  [1. 0. 0. 1. 0. 0. 0. 0. 1. 0. 0. 0.]\n",
      "8 0\n",
      "  [1. 0. 0. 1. 0. 0. 0. 0. 1. 0. 0. 0.]\n",
      "1 0\n",
      "  [0. 1. 0. 0. 1. 0. 0. 0. 1. 0. 0. 0.]\n",
      "1 0\n",
      "  [0. 1. 0. 0. 1. 0. 0. 0. 1. 0. 0. 0.]\n",
      "===== segment 1 =====\n",
      "9 0\n",
      "  [0. 1. 0. 0. 1. 0. 0. 0. 0. 1. 0. 0.]\n",
      "9 0\n",
      "  [0. 1. 0. 0. 1. 0. 0. 0. 0. 1. 0. 0.]\n",
      "11 0\n",
      "  [0. 0. 0. 1. 0. 0. 1. 0. 0. 0. 0. 1.]\n",
      "11 0\n",
      "  [0. 0. 0. 1. 0. 0. 1. 0. 0. 0. 0. 1.]\n",
      "4 0\n",
      "  [0. 0. 0. 0. 1. 0. 0. 0. 1. 0. 0. 1.]\n",
      "4 0\n",
      "  [0. 0. 0. 0. 1. 0. 0. 0. 1. 0. 0. 1.]\n",
      "8 0\n",
      "  [1. 0. 0. 1. 0. 0. 0. 0. 1. 0. 0. 0.]\n",
      "8 0\n",
      "  [1. 0. 0. 1. 0. 0. 0. 0. 1. 0. 0. 0.]\n",
      "===== segment 2 =====\n",
      "6 0\n",
      "  [0. 1. 0. 0. 0. 0. 1. 0. 0. 1. 0. 0.]\n",
      "6 0\n",
      "  [0. 1. 0. 0. 0. 0. 1. 0. 0. 1. 0. 0.]\n",
      "6 0\n",
      "  [0. 1. 0. 0. 0. 0. 1. 0. 0. 1. 0. 0.]\n",
      "6 0\n",
      "  [0. 1. 0. 0. 0. 0. 1. 0. 0. 1. 0. 0.]\n",
      "1 0\n",
      "  [0. 1. 0. 0. 1. 0. 0. 0. 1. 0. 0. 0.]\n",
      "1 0\n",
      "  [0. 1. 0. 0. 1. 0. 0. 0. 1. 0. 0. 0.]\n",
      "1 0\n",
      "  [0. 1. 0. 0. 1. 0. 0. 0. 1. 0. 0. 0.]\n",
      "1 0\n",
      "  [0. 1. 0. 0. 1. 0. 0. 0. 1. 0. 0. 0.]\n",
      "===== segment 3 =====\n",
      "9 0\n",
      "  [0. 1. 0. 0. 1. 0. 0. 0. 0. 1. 0. 0.]\n",
      "9 0\n",
      "  [0. 1. 0. 0. 1. 0. 0. 0. 0. 1. 0. 0.]\n",
      "9 0\n",
      "  [0. 1. 0. 0. 1. 0. 0. 0. 0. 1. 0. 0.]\n",
      "9 0\n",
      "  [0. 1. 0. 0. 1. 0. 0. 0. 0. 1. 0. 0.]\n",
      "8 0\n",
      "  [1. 0. 0. 1. 0. 0. 0. 0. 1. 0. 0. 0.]\n",
      "8 0\n",
      "  [1. 0. 0. 1. 0. 0. 0. 0. 1. 0. 0. 0.]\n",
      "8 0\n",
      "  [1. 0. 0. 1. 0. 0. 0. 0. 1. 0. 0. 0.]\n",
      "8 0\n",
      "  [1. 0. 0. 1. 0. 0. 0. 0. 1. 0. 0. 0.]\n",
      "===== segment 4 =====\n",
      "1 0\n",
      "  [0. 1. 0. 0. 1. 0. 0. 0. 1. 0. 0. 0.]\n",
      "1 0\n",
      "  [0. 1. 0. 0. 1. 0. 0. 0. 1. 0. 0. 0.]\n",
      "8 0\n",
      "  [0. 0. 0. 1. 0. 0. 0. 0. 1. 0. 0. 1.]\n",
      "8 0\n",
      "  [0. 0. 0. 1. 0. 0. 0. 0. 1. 0. 0. 1.]\n",
      "9 0\n",
      "  [0. 1. 0. 0. 1. 0. 0. 0. 0. 1. 0. 0.]\n",
      "11 0\n",
      "  [0. 0. 0. 1. 0. 0. 1. 0. 0. 0. 0. 1.]\n",
      "4 0\n",
      "  [0. 0. 0. 0. 1. 0. 0. 0. 1. 0. 0. 1.]\n",
      "4 0\n",
      "  [0. 0. 0. 0. 1. 0. 0. 0. 1. 0. 0. 1.]\n",
      "===== segment 5 =====\n",
      "6 0\n",
      "  [0. 1. 0. 0. 0. 0. 1. 0. 0. 1. 0. 0.]\n",
      "6 0\n",
      "  [0. 1. 0. 0. 0. 0. 1. 0. 0. 1. 0. 0.]\n",
      "1 0\n",
      "  [0. 1. 0. 0. 1. 0. 0. 0. 1. 0. 0. 0.]\n",
      "1 0\n",
      "  [0. 1. 0. 0. 1. 0. 0. 0. 1. 0. 0. 0.]\n",
      "9 0\n",
      "  [0. 1. 0. 0. 1. 0. 0. 0. 0. 1. 0. 0.]\n",
      "9 0\n",
      "  [0. 1. 0. 0. 1. 0. 0. 0. 0. 1. 0. 0.]\n",
      "8 0\n",
      "  [1. 0. 0. 1. 0. 0. 0. 0. 1. 0. 0. 0.]\n",
      "8 0\n",
      "  [1. 0. 0. 1. 0. 0. 0. 0. 1. 0. 0. 0.]\n",
      "===== segment 6 =====\n",
      "1 0\n",
      "  [0. 1. 0. 0. 1. 0. 0. 0. 1. 0. 0. 0.]\n",
      "1 0\n",
      "  [0. 1. 0. 0. 1. 0. 0. 0. 1. 0. 0. 0.]\n",
      "8 0\n",
      "  [0. 0. 0. 1. 0. 0. 0. 0. 1. 0. 0. 1.]\n",
      "8 0\n",
      "  [0. 0. 0. 1. 0. 0. 0. 0. 1. 0. 0. 1.]\n",
      "9 0\n",
      "  [0. 1. 0. 0. 1. 0. 0. 0. 0. 1. 0. 0.]\n",
      "11 0\n",
      "  [0. 0. 0. 1. 0. 0. 1. 0. 0. 0. 0. 1.]\n",
      "4 0\n",
      "  [0. 0. 0. 0. 1. 0. 0. 0. 1. 0. 0. 1.]\n",
      "4 0\n",
      "  [0. 0. 0. 0. 1. 0. 0. 0. 1. 0. 0. 1.]\n",
      "===== segment 7 =====\n",
      "6 0\n",
      "  [0. 1. 0. 0. 0. 0. 1. 0. 0. 1. 0. 0.]\n",
      "6 0\n",
      "  [0. 1. 0. 0. 0. 0. 1. 0. 0. 1. 0. 0.]\n",
      "1 0\n",
      "  [0. 1. 0. 0. 1. 0. 0. 0. 1. 0. 0. 0.]\n",
      "1 0\n",
      "  [0. 1. 0. 0. 1. 0. 0. 0. 1. 0. 0. 0.]\n",
      "9 0\n",
      "  [0. 1. 0. 0. 1. 0. 0. 0. 0. 1. 0. 0.]\n",
      "9 0\n",
      "  [0. 1. 0. 0. 1. 0. 0. 0. 0. 1. 0. 0.]\n",
      "8 0\n",
      "  [1. 0. 0. 1. 0. 0. 0. 0. 1. 0. 0. 0.]\n",
      "8 0\n",
      "  [1. 0. 0. 1. 0. 0. 0. 0. 1. 0. 0. 0.]\n"
     ]
    }
   ],
   "source": [
    "print_chord(*song3)"
   ]
  },
  {
   "cell_type": "markdown",
   "metadata": {},
   "source": [
    "# Long Posterior Experiment"
   ]
  },
  {
   "cell_type": "code",
   "execution_count": 12,
   "metadata": {},
   "outputs": [],
   "source": [
    "def post_sample_song(dataset_id, song_id, length, shift, folder=None):\n",
    "    length = song_datasets.valid_length(dataset_id, song_id, length)\n",
    "    info = song_datasets.get_msg(dataset_id, song_id, length, shift)\n",
    "    batch = song_datasets.get_song_batch(dataset_id, song_id, length, shift)\n",
    "    x, c, pr_mat, dt_x = data_loaders.batch_to_inputs(batch)\n",
    "    out1 = model.gt_sample(x)\n",
    "    out2 = model.posterior_sample(pr_mat, c, 3, sample_chd=False, sample_txt=True)\n",
    "    out3 = model.posterior_sample(pr_mat, c, 3, sample_chd=False, sample_txt=True)\n",
    "    out4 = model.posterior_sample(pr_mat, c, 3, sample_chd=False, sample_txt=True)\n",
    "    out5 = model.posterior_sample(pr_mat, c, 5, sample_chd=True, sample_txt=False)\n",
    "    out6 = model.posterior_sample(pr_mat, c, 5, sample_chd=True, sample_txt=False)\n",
    "    out7 = model.posterior_sample(pr_mat, c, 5, sample_chd=True, sample_txt=False)\n",
    "    oo = [out1, out2, out3, out4, out5, out6, out7]\n",
    "    track_notes = demo_maker.demo_format_convert(oo, outs_to_demo, bpm)\n",
    "    fn = os.path.join(folder, 'postsample-' + info + '.mid')\n",
    "    track_names = ['gt', \n",
    "                   'post_sample_txt1', 'post_sample_txt2', 'post_sample_txt3',\n",
    "                   'post_sample_chd1', 'post_sample_chd2', 'post_sample_chd3']\n",
    "    demo_maker.write_demo(fn, track_notes, track_names, bpm, shift_beat=8)\n",
    "    \n",
    "    demo_folder = os.path.join(folder, info)\n",
    "    if not os.path.exists(demo_folder):\n",
    "        os.mkdir(demo_folder)\n",
    "    \n",
    "    fn = os.path.join(demo_folder, 'all.mid')\n",
    "    demo_maker.write_demo(fn, track_notes, track_names, bpm, shift_beat=8)\n",
    "    for name, track in zip(track_names, oo):\n",
    "        track_notes = demo_maker.demo_format_convert([track], outs_to_demo, bpm)\n",
    "        fn = os.path.join(demo_folder, name + '.mid')\n",
    "        track_names = ['sample']\n",
    "        demo_maker.write_demo(fn, track_notes, track_names, bpm, shift_beat=8)\n",
    "    print('post done')"
   ]
  },
  {
   "cell_type": "code",
   "execution_count": 13,
   "metadata": {},
   "outputs": [],
   "source": [
    "post_long_path = os.path.join(demo_path, 'post_long')\n",
    "if not os.path.exists(post_long_path):\n",
    "    os.mkdir(post_long_path)"
   ]
  },
  {
   "cell_type": "code",
   "execution_count": 21,
   "metadata": {},
   "outputs": [
    {
     "name": "stdout",
     "output_type": "stream",
     "text": [
      "post done\n"
     ]
    }
   ],
   "source": [
    "torch.manual_seed(1234)\n",
    "post_sample_song(*song2, post_long_path)"
   ]
  },
  {
   "cell_type": "markdown",
   "metadata": {},
   "source": [
    "`3postsample-1_3_16_0.mid` is the best. First sample."
   ]
  },
  {
   "cell_type": "markdown",
   "metadata": {},
   "source": [
    "# Prior texture experiment"
   ]
  },
  {
   "cell_type": "code",
   "execution_count": 25,
   "metadata": {},
   "outputs": [],
   "source": [
    "def chord_label_to_input(chords):\n",
    "    inputs = []\n",
    "    for c in chords:\n",
    "        chord = mir_eval.chord.encode(c, reduce_extended_chords=True)\n",
    "        root = chord[0]\n",
    "        chroma = np.roll(chord[1], root)\n",
    "        bass = chord[2] % 12\n",
    "        root_onehot = np.zeros(12)\n",
    "        root_onehot[int(root)] = 1\n",
    "        bass_onehot = np.zeros(12)\n",
    "        bass_onehot[int(bass)] = 1\n",
    "        inputs.append(np.concatenate([root_onehot, chroma, bass_onehot]))\n",
    "    return np.array(inputs)"
   ]
  },
  {
   "cell_type": "code",
   "execution_count": 33,
   "metadata": {},
   "outputs": [],
   "source": [
    "def prior_sample_song(dataset_id, song_id, length, shift, chord, bs=8, folder=None,\n",
    "                      chd_str=None):\n",
    "    length = song_datasets.valid_length(dataset_id, song_id, length)\n",
    "    info = chd_str + '-' + song_datasets.get_msg(dataset_id, song_id, length, shift)\n",
    "    batch = song_datasets.get_song_batch(dataset_id, song_id, length, shift)\n",
    "    x, c, pr_mat, dt_x = data_loaders.batch_to_inputs(batch)\n",
    "    c = torch.from_numpy(chord_label_to_input(chord)).unsqueeze(0).repeat(bs, 1, 1).float()\n",
    "    pr_mat = pr_mat[0: bs]\n",
    "    outs = model.prior_sample(pr_mat, c, sample_chd=False, sample_rhy=True, scale=1)\n",
    "    fn = os.path.join(folder, 'priorsample-' + info + '.mid')\n",
    "    track_notes = demo_maker.demo_format_convert([outs], outs_to_demo, bpm)\n",
    "    track_names = [str(i) for i in range(len(track_notes))]\n",
    "    demo_maker.write_demo(fn, track_notes, track_names, bpm, shift_beat=8)\n",
    "    \n",
    "    demo_folder = os.path.join(folder, info)\n",
    "    if not os.path.exists(demo_folder):\n",
    "        os.mkdir(demo_folder)\n",
    "    \n",
    "    fn = os.path.join(demo_folder, 'all.mid')\n",
    "    demo_maker.write_demo(fn, track_notes, track_names, bpm, shift_beat=8)\n",
    "    for name, track in zip(track_names, [outs]):\n",
    "        track_notes = demo_maker.demo_format_convert([track], outs_to_demo, bpm)\n",
    "        fn = os.path.join(demo_folder, name + '.mid')\n",
    "        track_names = ['sample']\n",
    "        demo_maker.write_demo(fn, track_notes, track_names, bpm, shift_beat=8)"
   ]
  },
  {
   "cell_type": "code",
   "execution_count": 34,
   "metadata": {},
   "outputs": [],
   "source": [
    "prior_long_path = os.path.join(demo_path, 'prior_long')\n",
    "prior_long_path = os.path.join(demo_path, 'prior_long_ismir')\n",
    "if not os.path.exists(prior_long_path):\n",
    "    os.mkdir(prior_long_path)"
   ]
  },
  {
   "cell_type": "code",
   "execution_count": 42,
   "metadata": {},
   "outputs": [],
   "source": [
    "torch.manual_seed(2020)  # 1234 # 1434  # 2020\n",
    "# chord1 = ['C'] * 2 + ['A:min'] * 2 + ['F'] * 2 + ['G'] * 2\n",
    "chord2 = ['G'] * 2 + ['F'] * 2 + ['Eb'] * 4\n",
    "chord2 = ['F'] * 4 + ['Bb'] * 2 + ['F'] * 2\n",
    "prior_sample_song(*song1, chord2, 8, prior_long_path, '1564')"
   ]
  },
  {
   "cell_type": "markdown",
   "metadata": {},
   "source": [
    "1234: 60\n",
    "\n",
    "234: 40\n",
    "\n",
    "1234, 1.2scale: 70"
   ]
  },
  {
   "cell_type": "markdown",
   "metadata": {},
   "source": [
    "# Prior chord experiment"
   ]
  },
  {
   "cell_type": "code",
   "execution_count": 114,
   "metadata": {},
   "outputs": [],
   "source": [
    "def prior_sample_song(dataset_id, song_id, length, shift, bs=8, folder=None):\n",
    "    length = song_datasets.valid_length(dataset_id, song_id, length)\n",
    "    info = song_datasets.get_msg(dataset_id, song_id, length, shift)\n",
    "    batch = song_datasets.get_song_batch(dataset_id, song_id, length, shift)\n",
    "    x, c, pr_mat, dt_x = data_loaders.batch_to_inputs(batch)\n",
    "    pr_mat = pr_mat[1].unsqueeze(0).repeat(bs, 1, 1)\n",
    "    # pr_mat = pr_mat[0: bs]\n",
    "    outs = model.prior_sample(pr_mat, c, sample_chd=True, sample_rhy=False, scale=1)\n",
    "    fn = os.path.join(folder, 'prior_chdsample-' + info + '.mid')\n",
    "    track_notes = demo_maker.demo_format_convert([outs], outs_to_demo, bpm)\n",
    "    track_names = [str(i) for i in range(len(track_notes))]\n",
    "    demo_maker.write_demo(fn, track_notes, track_names, bpm, shift_beat=10)"
   ]
  },
  {
   "cell_type": "code",
   "execution_count": 115,
   "metadata": {},
   "outputs": [],
   "source": [
    "chdprior_long_path = os.path.join(demo_path, 'chd_prior_long')\n",
    "if not os.path.exists(chdprior_long_path):\n",
    "    os.mkdir(chdprior_long_path)"
   ]
  },
  {
   "cell_type": "code",
   "execution_count": 116,
   "metadata": {},
   "outputs": [],
   "source": [
    "torch.manual_seed(1234)\n",
    "prior_sample_song(*song2, 8, chdprior_long_path)"
   ]
  },
  {
   "cell_type": "markdown",
   "metadata": {},
   "source": [
    "# Chord Experiments"
   ]
  },
  {
   "cell_type": "code",
   "execution_count": 45,
   "metadata": {},
   "outputs": [],
   "source": [
    "def chord_interp_song(dataset_id, song_id, length, shift, chord1, chord2, bs=8, folder=None):\n",
    "    length = song_datasets.valid_length(dataset_id, song_id, length)\n",
    "    info = song_datasets.get_msg(dataset_id, song_id, length, shift)\n",
    "    batch = song_datasets.get_song_batch(dataset_id, song_id, length, shift)\n",
    "    x, c, pr_mat, dt_x = data_loaders.batch_to_inputs(batch)\n",
    "    c1 = torch.from_numpy(chord_label_to_input(chord1)).unsqueeze(0).repeat(bs, 1, 1).float()\n",
    "    c2 = torch.from_numpy(chord_label_to_input(chord2)).unsqueeze(0).repeat(bs, 1, 1).float()\n",
    "    pr_mat = pr_mat[0: bs]\n",
    "    outs = model.interp(pr_mat, c1, pr_mat, c2, interp_chd=True, interp_rhy=False, int_count=16)\n",
    "    fn = os.path.join(folder, 'interpsample-' + info + '.mid')\n",
    "    track_notes = demo_maker.demo_format_convert(outs, outs_to_demo, bpm)\n",
    "    track_names = [str(i) for i in range(len(track_notes))]\n",
    "    demo_maker.write_demo(fn, track_notes, track_names, bpm, shift_beat=8)"
   ]
  },
  {
   "cell_type": "code",
   "execution_count": 46,
   "metadata": {},
   "outputs": [],
   "source": [
    "interp_path = os.path.join(demo_path, 'interp_path')\n",
    "interp_path = os.path.join(demo_path, 'interp_path_ismir')\n",
    "if not os.path.exists(interp_path):\n",
    "    os.mkdir(interp_path)"
   ]
  },
  {
   "cell_type": "code",
   "execution_count": 54,
   "metadata": {},
   "outputs": [],
   "source": [
    "# chord1 = ['D:min7'] * 2 + ['G:7'] * 2 + ['C:maj7'] * 4\n",
    "# chord2 = ['F:min7'] * 2 + ['Bb:7'] * 2 + ['Eb:maj7'] * 4\n",
    "\n",
    "# chord1 = ['G'] * 4 + ['C'] * 4\n",
    "# chord2 = ['Eb'] * 4 + ['Ab'] * 4\n",
    "\n",
    "chord1 = ['C'] * 2 + ['A:min'] * 2 + ['F'] * 2 + ['G'] * 2\n",
    "chord2 = ['Eb'] * 2 + ['C:min'] * 2 + ['Ab'] * 2 + ['Bb'] * 2\n",
    "\n",
    "chord1 = ['Db'] * 2 + ['G'] * 2 + ['C:min'] * 4 #  + ['C'] * 2\n",
    "chord2 = ['C'] * 2 + ['D'] * 2 + ['G'] * 4\n",
    "# chord2 = ['F#'] * 2 + ['D#:min'] * 2 + ['B'] * 2 + ['C#'] * 2\n",
    "# chord2 = ['E:min7'] * 2 + ['A:7'] * 2 + ['D:min7', 'G:7'] + ['C:maj7'] * 2\n",
    "\n",
    "# chord2 = ['A:min'] * 2 + ['G'] * 2 + ['F', 'G'] + ['C'] * 2\n",
    "# chord1 = ['C'] * 2 + ['A:min'] * 2 + ['F'] * 2 + ['G'] * 2\n",
    "# chord2 = ['C#'] * 2 + ['A#:min'] * 2 + ['F#'] * 2 + ['G#'] * 2\n",
    "song_interp = [1, 26, 16, 6]\n",
    "chord_interp_song(*song_interp, chord1, chord2, 1, interp_path)  # 2"
   ]
  },
  {
   "cell_type": "code",
   "execution_count": 51,
   "metadata": {},
   "outputs": [],
   "source": [
    "major_chords = ['C', 'C#', 'D', 'D#', 'E', 'F', 'F#', 'G', 'G#', 'A', 'A#', 'B']\n",
    "major_chords = ['C', 'G', 'D', 'A', 'E', 'B', 'F#', 'C#', 'G#', 'D#', 'A#', 'F']\n",
    "c = torch.from_numpy(chord_label_to_input(major_chords)).unsqueeze(1).repeat(1, 8, 1)\n",
    "c = c.float()"
   ]
  },
  {
   "cell_type": "code",
   "execution_count": 61,
   "metadata": {},
   "outputs": [],
   "source": [
    "zs = model.chd_encoder(c)"
   ]
  },
  {
   "cell_type": "code",
   "execution_count": 62,
   "metadata": {},
   "outputs": [],
   "source": [
    "z = zs.mean.detach().numpy()"
   ]
  },
  {
   "cell_type": "code",
   "execution_count": 63,
   "metadata": {},
   "outputs": [
    {
     "data": {
      "text/plain": [
       "(12, 256)"
      ]
     },
     "execution_count": 63,
     "metadata": {},
     "output_type": "execute_result"
    }
   ],
   "source": [
    "z.shape"
   ]
  },
  {
   "cell_type": "code",
   "execution_count": 64,
   "metadata": {},
   "outputs": [
    {
     "data": {
      "text/plain": [
       "(12, 2)"
      ]
     },
     "execution_count": 64,
     "metadata": {},
     "output_type": "execute_result"
    }
   ],
   "source": [
    "from sklearn.manifold import TSNE\n",
    "X_embedded = TSNE(n_components=2).fit_transform(z)\n",
    "X_embedded.shape"
   ]
  },
  {
   "cell_type": "code",
   "execution_count": 65,
   "metadata": {},
   "outputs": [],
   "source": [
    "import matplotlib.pyplot as plt"
   ]
  },
  {
   "cell_type": "code",
   "execution_count": 66,
   "metadata": {},
   "outputs": [
    {
     "data": {
      "text/plain": [
       "<matplotlib.collections.PathCollection at 0x1c2811f9d0>"
      ]
     },
     "execution_count": 66,
     "metadata": {},
     "output_type": "execute_result"
    },
    {
     "data": {
      "image/png": "[encoded data removed]",
      "text/plain": [
       "<Figure size 432x288 with 1 Axes>"
      ]
     },
     "metadata": {
      "needs_background": "light"
     },
     "output_type": "display_data"
    }
   ],
   "source": [
    "plt.scatter(X_embedded[:, 0], X_embedded[:, 1], c=[(0.1, 0.2, 0.5, a) for a in list(np.linspace(0, 1, 12))])"
   ]
  },
  {
   "cell_type": "code",
   "execution_count": 48,
   "metadata": {},
   "outputs": [
    {
     "data": {
      "text/plain": [
       "array([ 0.        ,  0.08333333,  0.16666667,  0.25      ,  0.33333333,\n",
       "        0.41666667,  0.5       ,  0.58333333,  0.66666667,  0.75      ,\n",
       "        0.83333333,  0.91666667,  1.        ,  1.08333333,  1.16666667,\n",
       "        1.25      ,  1.33333333,  1.41666667,  1.5       ,  1.58333333,\n",
       "        1.66666667,  1.75      ,  1.83333333,  1.91666667,  2.        ,\n",
       "        2.08333333,  2.16666667,  2.25      ,  2.33333333,  2.41666667,\n",
       "        2.5       ,  2.58333333,  2.66666667,  2.75      ,  2.83333333,\n",
       "        2.91666667,  3.        ,  3.08333333,  3.16666667,  3.25      ,\n",
       "        3.33333333,  3.41666667,  3.5       ,  3.58333333,  3.66666667,\n",
       "        3.75      ,  3.83333333,  3.91666667,  4.        ,  4.08333333,\n",
       "        4.16666667,  4.25      ,  4.33333333,  4.41666667,  4.5       ,\n",
       "        4.58333333,  4.66666667,  4.75      ,  4.83333333,  4.91666667,\n",
       "        5.        ,  5.08333333,  5.16666667,  5.25      ,  5.33333333,\n",
       "        5.41666667,  5.5       ,  5.58333333,  5.66666667,  5.75      ,\n",
       "        5.83333333,  5.91666667,  6.        ,  6.08333333,  6.16666667,\n",
       "        6.25      ,  6.33333333,  6.41666667,  6.5       ,  6.58333333,\n",
       "        6.66666667,  6.75      ,  6.83333333,  6.91666667,  7.        ,\n",
       "        7.08333333,  7.16666667,  7.25      ,  7.33333333,  7.41666667,\n",
       "        7.5       ,  7.58333333,  7.66666667,  7.75      ,  7.83333333,\n",
       "        7.91666667,  8.        ,  8.08333333,  8.16666667,  8.25      ,\n",
       "        8.33333333,  8.41666667,  8.5       ,  8.58333333,  8.66666667,\n",
       "        8.75      ,  8.83333333,  8.91666667,  9.        ,  9.08333333,\n",
       "        9.16666667,  9.25      ,  9.33333333,  9.41666667,  9.5       ,\n",
       "        9.58333333,  9.66666667,  9.75      ,  9.83333333,  9.91666667,\n",
       "       10.        , 10.08333333, 10.16666667, 10.25      , 10.33333333,\n",
       "       10.41666667, 10.5       , 10.58333333, 10.66666667, 10.75      ,\n",
       "       10.83333333, 10.91666667, 11.        , 11.08333333, 11.16666667,\n",
       "       11.25      , 11.33333333, 11.41666667, 11.5       , 11.58333333,\n",
       "       11.66666667, 11.75      , 11.83333333, 11.91666667])"
      ]
     },
     "execution_count": 48,
     "metadata": {},
     "output_type": "execute_result"
    }
   ],
   "source": [
    "np.arange(0, 12, 1 / 12)"
   ]
  },
  {
   "cell_type": "code",
   "execution_count": 122,
   "metadata": {},
   "outputs": [
    {
     "name": "stdout",
     "output_type": "stream",
     "text": [
      "torch.Size([3, 256])\n"
     ]
    }
   ],
   "source": [
    "chord1 = ['C'] * 2 + ['A:min'] * 2 + ['F'] * 2 + ['G'] * 2\n",
    "chord2 = ['Eb'] * 2 + ['C:min'] * 2 + ['Ab'] * 2 + ['Bb'] * 2\n",
    "chord0 = ['C'] * 8\n",
    "c1 = torch.from_numpy(chord_label_to_input(chord1)).unsqueeze(0).repeat(1, 1, 1).float()\n",
    "c2 = torch.from_numpy(chord_label_to_input(chord2)).unsqueeze(0).repeat(1, 1, 1).float()\n",
    "c0 = torch.from_numpy(chord_label_to_input(chord0)).unsqueeze(0).repeat(1, 1, 1).float()\n",
    "cs = torch.cat([c0, c1, c2], dim=0)\n",
    "with torch.no_grad():\n",
    "    zcs = model.chd_encoder(cs).mean\n",
    "print(zcs.size())"
   ]
  },
  {
   "cell_type": "code",
   "execution_count": 123,
   "metadata": {},
   "outputs": [],
   "source": [
    "zc3 = (zcs[0] - zcs[1]) + zcs[2]"
   ]
  },
  {
   "cell_type": "code",
   "execution_count": 125,
   "metadata": {},
   "outputs": [],
   "source": [
    "zc3 = zc3.unsqueeze(0)\n",
    "out = model.chd_decoder(zc3, True, 0.)"
   ]
  },
  {
   "cell_type": "code",
   "execution_count": 127,
   "metadata": {},
   "outputs": [],
   "source": [
    "root, chroma, bass = out"
   ]
  },
  {
   "cell_type": "code",
   "execution_count": 129,
   "metadata": {},
   "outputs": [
    {
     "name": "stdout",
     "output_type": "stream",
     "text": [
      "tensor([[3, 3, 0, 0, 0, 0, 0, 0]])\n"
     ]
    }
   ],
   "source": [
    "print(root.max(-1)[1])"
   ]
  },
  {
   "cell_type": "code",
   "execution_count": 130,
   "metadata": {},
   "outputs": [
    {
     "name": "stdout",
     "output_type": "stream",
     "text": [
      "tensor([[[0, 0, 0, 1, 0, 0, 0, 1, 0, 0, 1, 0],\n",
      "         [0, 0, 0, 1, 0, 0, 0, 1, 0, 0, 1, 0],\n",
      "         [1, 0, 0, 1, 0, 0, 0, 1, 0, 0, 1, 0],\n",
      "         [1, 0, 0, 1, 0, 0, 0, 1, 0, 0, 1, 0],\n",
      "         [1, 0, 0, 1, 0, 0, 0, 1, 0, 0, 0, 0],\n",
      "         [1, 0, 0, 1, 0, 0, 0, 1, 0, 0, 0, 0],\n",
      "         [1, 0, 0, 1, 0, 0, 0, 1, 1, 0, 0, 0],\n",
      "         [1, 0, 0, 1, 0, 0, 0, 1, 1, 0, 1, 0]]])\n"
     ]
    }
   ],
   "source": [
    "print(chroma.max(-1)[1])"
   ]
  },
  {
   "cell_type": "code",
   "execution_count": null,
   "metadata": {},
   "outputs": [],
   "source": []
  }
 ],
 "metadata": {
  "kernelspec": {
   "display_name": "Python 3",
   "language": "python",
   "name": "python3"
  },
  "language_info": {
   "codemirror_mode": {
    "name": "ipython",
    "version": 3
   },
   "file_extension": ".py",
   "mimetype": "text/x-python",
   "name": "python",
   "nbconvert_exporter": "python",
   "pygments_lexer": "ipython3",
   "version": "3.7.9"
  },
  "pycharm": {
   "stem_cell": {
    "cell_type": "raw",
    "metadata": {
     "collapsed": false
    },
    "source": []
   }
  }
 },
 "nbformat": 4,
 "nbformat_minor": 1
}
