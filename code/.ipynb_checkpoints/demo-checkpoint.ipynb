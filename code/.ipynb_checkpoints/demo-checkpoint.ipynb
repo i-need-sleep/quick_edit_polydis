{
 "cells": [
  {
   "cell_type": "code",
   "execution_count": null,
   "metadata": {},
   "outputs": [],
   "source": [
    "import os\n",
    "import argparse\n",
    "import datetime\n",
    "import random\n",
    "import copy\n",
    "\n",
    "import pretty_midi\n",
    "import torch\n",
    "from torch.utils.tensorboard import SummaryWriter\n",
    "\n",
    "from dataset import LoaderWrapper\n",
    "from models.edit_musebert import EditMuseBERT\n",
    "from utils.data_utils import prep_batch, prep_batch_inference, onset_pitch_duration_prettymidi_notes\n",
    "import utils.rules"
   ]
  },
  {
   "cell_type": "code",
   "execution_count": null,
   "metadata": {},
   "outputs": [
    {
     "ename": "",
     "evalue": "",
     "output_type": "error",
     "traceback": [
      "\u001b[1;31mFailed to start the Kernel. \n",
      "\u001b[1;31mUnable to start Kernel 'base (Python 3.8.8)' due to connection timeout. \n",
      "\u001b[1;31mView Jupyter <a href='command:jupyter.viewOutput'>log</a> for further details."
     ]
    }
   ],
   "source": [
    "# Device\n",
    "torch.manual_seed(21)\n",
    "device = torch.device('cuda' if torch.cuda.is_available() else 'cpu')\n",
    "print(device)\n",
    "\n",
    "# Make loaders\n",
    "wrapper = LoaderWrapper(1, 1)\n",
    "train_loader = wrapper.get_loader(split='train')\n",
    "dev_loader = wrapper.get_loader(split='dev')\n",
    "print(f'Training laoder size: {len(train_loader)}')\n",
    "print(f'Dev laoder size: {len(dev_loader)}')\n",
    "print(f'Dev #songs: {- dev_loader.dataset.split_idx}')\n",
    "\n",
    "# Set the rule set\n",
    "# wrapper.collate.rule = utils.rules.identity\n",
    "\n",
    "# Setup training\n",
    "if True:\n",
    "    model = EditMuseBERT(device, wrapper,n_edit_types=wrapper.collate.editor.pitch_range, n_decoder_layers=2).to(device)\n",
    "else:\n",
    "    model = EditMuseBERT(device, wrapper,n_edit_types=wrapper.collate.editor.pitch_range).to(device)\n",
    "\n",
    "# Load from checkpoints\n",
    "checkpoint = '../results/checkpoints/debug/batchsize32_lr1e-05_0_4999_100.bin'\n",
    "print(f'loading checkpoint: {checkpoint}')\n",
    "loaded = torch.load(checkpoint, map_location=device)\n",
    "model.load_state_dict(loaded['model_state_dict'])"
   ]
  },
  {
   "cell_type": "code",
   "execution_count": null,
   "metadata": {},
   "outputs": [
    {
     "ename": "",
     "evalue": "",
     "output_type": "error",
     "traceback": [
      "\u001b[1;31mFailed to start the Kernel. \n",
      "\u001b[1;31mUnable to start Kernel 'base (Python 3.8.8)' due to connection timeout. \n",
      "\u001b[1;31mView Jupyter <a href='command:jupyter.viewOutput'>log</a> for further details."
     ]
    }
   ],
   "source": [
    "# Make a chord prog\n",
    "chd_types = {\n",
    "    'M3': [0, 4, 7],\n",
    "    'm3': [0, 3, 7],\n",
    "    'A3': [0, 4, 8],\n",
    "    'd3': [0, 3, 6],\n",
    "    'M7': [0, 4, 7, 11],\n",
    "    'm7': [0, 3, 7, 10],\n",
    "    'D7': [0, 4, 7, 10],\n",
    "}\n",
    "\n",
    "def make_chd(root, chroma, bass):\n",
    "    # root / bass: indices 0-11. Remember bass is relative\n",
    "    # chroma: list of indices 0-11 (absolute)\n",
    "    out = [0 for _ in range(36)]\n",
    "    out[root] = 1\n",
    "    out[bass + 24] = 1\n",
    "    for c in chroma:\n",
    "        out[c + 12] = 1 \n",
    "    return out\n",
    "\n",
    "def make_prog(prog_text):\n",
    "    out = []\n",
    "    for chd_text in prog_text:\n",
    "        root = chd_text[0]\n",
    "        bass = chd_text[2]\n",
    "        chroma = chd_types[chd_text[1]]\n",
    "        out.append(make_chd(root, chroma, bass))\n",
    "    return out\n",
    "\n",
    "cmat = make_prog([\n",
    "    [9, 'm3', 0],\n",
    "    [9, 'm3', 7],\n",
    "    [5, 'M3', 0],\n",
    "    [5, 'M3', 0],\n",
    "    [5, 'M3', 0],\n",
    "    [7, 'M3', 0],\n",
    "    [8, 'd3', 0],\n",
    "    [9, 'M3', 0],\n",
    "    ])\n",
    "cmat = torch.tensor(cmat).to(device).float().unsqueeze(0)"
   ]
  },
  {
   "cell_type": "code",
   "execution_count": null,
   "metadata": {},
   "outputs": [
    {
     "ename": "",
     "evalue": "",
     "output_type": "error",
     "traceback": [
      "\u001b[1;31mFailed to start the Kernel. \n",
      "\u001b[1;31mUnable to start Kernel 'base (Python 3.8.8)' due to connection timeout. \n",
      "\u001b[1;31mView Jupyter <a href='command:jupyter.viewOutput'>log</a> for further details."
     ]
    }
   ],
   "source": [
    "# Get a texture from PoP909\n",
    "_, _, pr_mat, ptree, _ = train_loader.dataset.polydis_dataset[random.randint(0, len(train_loader.dataset.polydis_dataset) - 1)]\n",
    "pr_mat = torch.tensor(pr_mat).to(device).float()\n",
    "ptree = torch.tensor(ptree).to(device)[0]\n",
    "\n",
    "# Polydis oracle\n",
    "ptree_polydis = wrapper.collate.polydis.swap(pr_mat, pr_mat, cmat, cmat, fix_rhy=True, fix_chd=False)[0]\n",
    "_, notes_polydis = wrapper.collate.polydis.decoder.grid_to_pr_and_notes(ptree_polydis.astype(int))\n",
    "\n",
    "# Original notes\n",
    "_, notes_original = wrapper.collate.polydis.decoder.grid_to_pr_and_notes(ptree.numpy().astype(int))\n",
    "notes_original_ = copy.deepcopy(notes_original)\n",
    "\n",
    "# Apply rule-based approximations to the input notes\n",
    "notes_rule = wrapper.collate.rule(notes_original_, cmat[0])\n",
    "notes_rule_ = copy.deepcopy(notes_rule)\n",
    "\n",
    "# Convert notes for MuseBERT input\n",
    "notes_out_line, _, _, _, _ = wrapper.collate.editor.get_edits(notes_rule, notes_polydis)\n",
    "atr, _, cpt_rel, _, _, length = wrapper.collate.converter.convert(notes_out_line)\n",
    "\n",
    "# Run the edit models\n",
    "atr = torch.tensor(atr).to(device).unsqueeze(0)\n",
    "cpt_rel = torch.tensor(cpt_rel).to(device).unsqueeze(0)\n",
    "length = [length]\n",
    "inference_out = model.inference(cmat, [atr, cpt_rel, length], return_context_inserts=True)\n",
    "notes_pred = inference_out[0][0]\n",
    "notes_context = inference_out[1][0]\n",
    "notes_insert = inference_out[2][0]\n",
    "\n",
    "# Write output midis\n",
    "notes_pred = onset_pitch_duration_prettymidi_notes(notes_pred)\n",
    "notes_context = onset_pitch_duration_prettymidi_notes(notes_context)\n",
    "notes_insert = onset_pitch_duration_prettymidi_notes(notes_insert)\n",
    "\n",
    "def write_midi(note_seqs, names):\n",
    "    out_dir = '../results/demo_out'\n",
    "    mid = pretty_midi.PrettyMIDI()\n",
    "    for i, seq in enumerate(note_seqs):\n",
    "        inst = pretty_midi.Instrument(program=0, name=names[i])\n",
    "        inst.notes = seq\n",
    "        mid.instruments.append(inst)\n",
    "    mid.write(f'{out_dir}/out.mid')\n",
    "\n",
    "write_midi([notes_original_, notes_polydis, notes_rule_, notes_pred, notes_context, notes_insert], ['original', 'polydis', 'rules', 'edit_final', 'edit_enc', 'edit_insert'])\n",
    "    \n"
   ]
  },
  {
   "cell_type": "code",
   "execution_count": null,
   "metadata": {},
   "outputs": [
    {
     "ename": "",
     "evalue": "",
     "output_type": "error",
     "traceback": [
      "\u001b[1;31mFailed to start the Kernel. \n",
      "\u001b[1;31mUnable to start Kernel 'base (Python 3.8.8)' due to connection timeout. \n",
      "\u001b[1;31mView Jupyter <a href='command:jupyter.viewOutput'>log</a> for further details."
     ]
    }
   ],
   "source": []
  },
  {
   "cell_type": "code",
   "execution_count": null,
   "metadata": {},
   "outputs": [
    {
     "ename": "",
     "evalue": "",
     "output_type": "error",
     "traceback": [
      "\u001b[1;31mFailed to start the Kernel. \n",
      "\u001b[1;31mUnable to start Kernel 'base (Python 3.8.8)' due to connection timeout. \n",
      "\u001b[1;31mView Jupyter <a href='command:jupyter.viewOutput'>log</a> for further details."
     ]
    }
   ],
   "source": []
  },
  {
   "cell_type": "code",
   "execution_count": null,
   "metadata": {},
   "outputs": [],
   "source": []
  }
 ],
 "metadata": {
  "kernelspec": {
   "display_name": "Python 3",
   "language": "python",
   "name": "python3"
  },
  "language_info": {
   "codemirror_mode": {
    "name": "ipython",
    "version": 3
   },
   "file_extension": ".py",
   "mimetype": "text/x-python",
   "name": "python",
   "nbconvert_exporter": "python",
   "pygments_lexer": "ipython3",
   "version": "3.8.8 | packaged by conda-forge | (default, Feb 20 2021, 15:50:08) [MSC v.1916 64 bit (AMD64)]"
  },
  "vscode": {
   "interpreter": {
    "hash": "b5efcd3efc71ef29576cdfc4a5c5091a22a4d39f277c681ebc64abd29d3aec9c"
   }
  }
 },
 "nbformat": 4,
 "nbformat_minor": 2
}
