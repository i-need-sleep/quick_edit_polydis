{
 "cells": [
  {
   "cell_type": "code",
   "execution_count": 1,
   "metadata": {},
   "outputs": [
    {
     "name": "stderr",
     "output_type": "stream",
     "text": [
      "C:\\Users\\Willi\\anaconda3\\lib\\site-packages\\pandas\\core\\computation\\expressions.py:20: UserWarning: Pandas requires version '2.7.3' or newer of 'numexpr' (version '2.7.2' currently installed).\n",
      "  from pandas.core.computation.check import NUMEXPR_INSTALLED\n"
     ]
    }
   ],
   "source": [
    "import os\n",
    "import argparse\n",
    "import datetime\n",
    "import random\n",
    "import copy\n",
    "\n",
    "import pretty_midi\n",
    "import torch\n",
    "from torch.utils.tensorboard import SummaryWriter\n",
    "\n",
    "from dataset import LoaderWrapper\n",
    "from models.edit_musebert import EditMuseBERT\n",
    "from utils.data_utils import prep_batch, prep_batch_inference, onset_pitch_duration_prettymidi_notes\n",
    "import utils.rules"
   ]
  },
  {
   "cell_type": "code",
   "execution_count": 2,
   "metadata": {},
   "outputs": [
    {
     "name": "stdout",
     "output_type": "stream",
     "text": [
      "cpu\n",
      "Polydis loaded from: ../pretrained/polydis.pt\n",
      "The folder contains 886 .npz files.\n",
      "Selected 858 files, all are in duple meter.\n",
      "The folder contains 886 .npz files.\n",
      "Selected 858 files, all are in duple meter.\n",
      "Training laoder size: 820794\n",
      "Dev laoder size: 40859\n",
      "Dev #songs: 40\n",
      "loading checkpoint: ../results/checkpoints/mfmc/mfmc_altered_atr_original_rel.bin\n"
     ]
    },
    {
     "data": {
      "text/plain": [
       "<All keys matched successfully>"
      ]
     },
     "execution_count": 2,
     "metadata": {},
     "output_type": "execute_result"
    }
   ],
   "source": [
    "# Device\n",
    "torch.manual_seed(21)\n",
    "device = torch.device('cuda' if torch.cuda.is_available() else 'cpu')\n",
    "print(device)\n",
    "\n",
    "# Make loaders\n",
    "wrapper = LoaderWrapper(1, 1, edit_scheme='mfmc')\n",
    "train_loader = wrapper.get_loader(split='train')\n",
    "dev_loader = wrapper.get_loader(split='dev')\n",
    "print(f'Training laoder size: {len(train_loader)}')\n",
    "print(f'Dev laoder size: {len(dev_loader)}')\n",
    "print(f'Dev #songs: {- dev_loader.dataset.split_idx}')\n",
    "\n",
    "\n",
    "# Setup training\n",
    "model = EditMuseBERT(device, wrapper).to(device)\n",
    "\n",
    "# Load from checkpoints\n",
    "checkpoint = '../results/checkpoints/mfmc/mfmc_altered_atr_original_rel.bin'\n",
    "\n",
    "# Set the rule set\n",
    "# wrapper.collate.rule = utils.rules.identity\n",
    "\n",
    "print(f'loading checkpoint: {checkpoint}')\n",
    "loaded = torch.load(checkpoint, map_location=device)\n",
    "model.load_state_dict(loaded['model_state_dict'])"
   ]
  },
  {
   "cell_type": "code",
   "execution_count": 3,
   "metadata": {},
   "outputs": [],
   "source": [
    "# Make a chord prog\n",
    "chd_types = {\n",
    "    'M3': [0, 4, 7],\n",
    "    'm3': [0, 3, 7],\n",
    "    'A3': [0, 4, 8],\n",
    "    'd3': [0, 3, 6],\n",
    "    'M7': [0, 4, 7, 11],\n",
    "    'm7': [0, 3, 7, 10],\n",
    "    'D7': [0, 4, 7, 10],\n",
    "}\n",
    "\n",
    "def make_chd(root, chroma, bass):\n",
    "    # root / bass: indices 0-11. Remember bass is relative\n",
    "    # chroma: list of indices 0-11 (absolute)\n",
    "    out = [0 for _ in range(36)]\n",
    "    out[root] = 1\n",
    "    out[bass + 24] = 1\n",
    "    for c in chroma:\n",
    "        out[(c + root) % 12 + 12] = 1 \n",
    "    return out\n",
    "\n",
    "def make_prog(prog_text):\n",
    "    out = []\n",
    "    for chd_text in prog_text:\n",
    "        root = chd_text[0]\n",
    "        bass = chd_text[2]\n",
    "        chroma = chd_types[chd_text[1]]\n",
    "        out.append(make_chd(root, chroma, bass))\n",
    "    return out\n",
    "\n",
    "cmat = make_prog([\n",
    "    [0, 'M3', 0],\n",
    "    [0, 'M3', 0],\n",
    "    [7, 'M3', 0],\n",
    "    [7, 'M3', 0],\n",
    "    [9, 'm3', 0],\n",
    "    [9, 'm3', 0],\n",
    "    [5, 'M3', 0],\n",
    "    [5, 'M3', 0],\n",
    "    ])\n",
    "cmat = torch.tensor(cmat).to(device).float().unsqueeze(0)"
   ]
  },
  {
   "cell_type": "code",
   "execution_count": 6,
   "metadata": {},
   "outputs": [
    {
     "name": "stderr",
     "output_type": "stream",
     "text": [
      "C:\\Users\\Willi\\Desktop\\quick_edit_polydis\\code\\models\\musebert\\note_attribute_repr.py:192: UserWarning: To copy construct from a tensor, it is recommended to use sourceTensor.clone().detach() or sourceTensor.clone().detach().requires_grad_(True), rather than torch.tensor(sourceTensor).\n",
      "  vr = torch.tensor(vr).bool()\n"
     ]
    }
   ],
   "source": [
    "# Get a texture from PoP909\n",
    "_, _, pr_mat, ptree, _ = train_loader.dataset.polydis_dataset[random.randint(0, len(train_loader.dataset.polydis_dataset) - 1)]\n",
    "pr_mat = torch.tensor(pr_mat).to(device).float()\n",
    "ptree = torch.tensor(ptree).to(device)[0]\n",
    "\n",
    "# Polydis oracle\n",
    "ptree_polydis = wrapper.collate.polydis.swap(pr_mat, pr_mat, cmat, cmat, fix_rhy=True, fix_chd=False)[0]\n",
    "_, notes_polydis = wrapper.collate.polydis.decoder.grid_to_pr_and_notes(ptree_polydis.astype(int))\n",
    "\n",
    "# Original notes\n",
    "_, notes_original = wrapper.collate.polydis.decoder.grid_to_pr_and_notes(ptree.numpy().astype(int))\n",
    "notes_original_ = copy.deepcopy(notes_original)\n",
    "\n",
    "# Apply rule-based approximations to the input notes\n",
    "notes_rule = wrapper.collate.rule(notes_original, cmat[0])\n",
    "notes_rule_ = copy.deepcopy(notes_rule)\n",
    "\n",
    "# Convert notes for MuseBERT input\n",
    "notes_out_line, _, _, _, _ = wrapper.collate.editor.get_edits(notes_rule, notes_polydis)\n",
    "atr, _, cpt_rel, _, _, length = wrapper.collate.converter.convert(notes_out_line)\n",
    "# Original rel / altered notes\n",
    "notes_original__ = utils.data_utils.prettymidi_notes_to_onset_pitch_duration(notes_original)\n",
    "_, _, cpt_rel, _, _, _ = wrapper.collate.converter.convert(notes_original__)\n",
    "\n",
    "# Run the edit models\n",
    "atr = torch.tensor(atr).to(device).unsqueeze(0)\n",
    "cpt_rel = torch.tensor(cpt_rel).to(device).unsqueeze(0)\n",
    "length = [length]\n",
    "inference_out = model.inference(cmat, [atr, cpt_rel, length], return_context_inserts=True)\n",
    "notes_context = inference_out[0][0]\n",
    "notes_insert = inference_out[1][0]\n",
    "notes_pred = inference_out[2][0]\n",
    "\n",
    "# Write output midis\n",
    "notes_pred = onset_pitch_duration_prettymidi_notes(notes_pred)\n",
    "notes_context = onset_pitch_duration_prettymidi_notes(notes_context)\n",
    "notes_insert = onset_pitch_duration_prettymidi_notes(notes_insert)\n",
    "\n",
    "def write_midi(note_seqs, names):\n",
    "    out_dir = '../results/demo_out'\n",
    "    mid = pretty_midi.PrettyMIDI()\n",
    "    for i, seq in enumerate(note_seqs):\n",
    "        inst = pretty_midi.Instrument(program=0, name=names[i])\n",
    "        inst.notes = seq\n",
    "        mid.instruments.append(inst)\n",
    "    mid.write(f'{out_dir}/out.mid')\n",
    "\n",
    "write_midi([notes_original_, notes_polydis, notes_rule_, notes_pred, notes_context, notes_insert], ['original', 'polydis', 'rules', 'edit_final', 'edit_enc', 'edit_insert'])\n",
    "    \n"
   ]
  },
  {
   "cell_type": "code",
   "execution_count": null,
   "metadata": {},
   "outputs": [],
   "source": []
  },
  {
   "cell_type": "code",
   "execution_count": null,
   "metadata": {},
   "outputs": [],
   "source": []
  },
  {
   "cell_type": "code",
   "execution_count": null,
   "metadata": {},
   "outputs": [],
   "source": []
  }
 ],
 "metadata": {
  "kernelspec": {
   "display_name": "Python 3",
   "language": "python",
   "name": "python3"
  },
  "language_info": {
   "codemirror_mode": {
    "name": "ipython",
    "version": 3
   },
   "file_extension": ".py",
   "mimetype": "text/x-python",
   "name": "python",
   "nbconvert_exporter": "python",
   "pygments_lexer": "ipython3",
   "version": "3.8.8"
  },
  "vscode": {
   "interpreter": {
    "hash": "b5efcd3efc71ef29576cdfc4a5c5091a22a4d39f277c681ebc64abd29d3aec9c"
   }
  }
 },
 "nbformat": 4,
 "nbformat_minor": 2
}
